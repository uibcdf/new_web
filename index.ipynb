{
 "cells": [
  {
   "cell_type": "markdown",
   "id": "aac56305-f44e-4a9f-8f25-4f77b203ae65",
   "metadata": {
    "editable": true,
    "slideshow": {
     "slide_type": ""
    },
    "tags": []
   },
   "source": [
    "```{eval-rst}\n",
    ":html_theme.sidebar_secondary.remove:\n",
    "```"
   ]
  },
  {
   "cell_type": "markdown",
   "id": "6c9de210-0ac6-4ee9-9dad-7cfe0b988806",
   "metadata": {
    "editable": true,
    "slideshow": {
     "slide_type": ""
    },
    "tags": []
   },
   "source": [
    ":::{figure} _static/logo.svg\n",
    ":width: 50%\n",
    ":align: center\n",
    ":::\n",
    "\n",
    "<div style=\"text-align: center; margin-top: 1.0rem; font-size: 1.1em;\">\n",
    "  Computational Biology and Drug Design Research Unit<br>\n",
    "  Federico Gómez Children’s Hospital of Mexico – Mexican National Institute of Health\n",
    "</div>\n",
    "\n",
    "<div style=\"text-align: center; margin-top: 0.5rem;\">\n",
    "  <a href=\"https://github.com/uibcdf\" target=\"_blank\" rel=\"noopener\" style=\"display: inline-block;\">\n",
    "    <img src=\"https://img.shields.io/badge/GitHub-white.svg\" alt=\"\" style=\"height: 24px; margin: 0 8px; vertical-align: middle;\">\n",
    "  </a>\n",
    "  <a href=\"https://linkedin.com/company/uibcdf\" target=\"_blank\" rel=\"noopener\" style=\"display: inline-block;\">\n",
    "    <img src=\"https://img.shields.io/badge/LinkedIn-white.svg\" alt=\"\" style=\"height: 24px; margin: 0 8px; vertical-align: middle;\">\n",
    "  </a>\n",
    "</div>\n",
    "\n",
    "<br/>\n",
    "\n",
    "## Meet the Team\n",
    "\n",
    "Meet the scientists behind our work:\n",
    "\n",
    "- [Liliana M. Moreno Vargas]()\n",
    "- [Diego Prada Gracia]()\n",
    "\n",
    "Explore their full profiles and research contributions [here]().\n",
    "\n",
    "<br/>\n",
    "\n",
    "## Research Focus\n",
    "\n",
    "In construction...\n",
    "\n",
    "<br/>\n",
    "\n",
    "## Our Computational Ecosystem\n",
    "\n",
    "- MolSysMT\n",
    "- ElasNetMT\n",
    "- PocketMT\n",
    "- PharmacophoreMT\n",
    "- MembraneMT\n",
    "- PyUnitWizard\n",
    "- GitHub Actions\n",
    "\n",
    "<br/>\n",
    "\n",
    "## Recent Scientific Contributions\n",
    "\n",
    "In construction..."
   ]
  },
  {
   "cell_type": "markdown",
   "id": "96727aaf-6fb1-4929-9dc5-d51fc8ff3cd0",
   "metadata": {
    "editable": true,
    "slideshow": {
     "slide_type": ""
    },
    "tags": []
   },
   "source": [
    "```{eval-rst}\n",
    "\n",
    ".. toctree::\n",
    "   :maxdepth: 2\n",
    "   :hidden:\n",
    "\n",
    "   content/about/index.md\n",
    "\n",
    ".. toctree::\n",
    "   :maxdepth: 2\n",
    "   :hidden:\n",
    "\n",
    "   content/team/index.md\n",
    "\n",
    ".. toctree::\n",
    "   :maxdepth: 2\n",
    "   :hidden:\n",
    "\n",
    "   content/research_and_projects/index.md\n",
    "\n",
    ".. toctree::\n",
    "   :maxdepth: 2\n",
    "   :hidden:\n",
    "\n",
    "   content/computational_tools/index.md\n",
    "\n",
    ".. toctree::\n",
    "   :maxdepth: 2\n",
    "   :hidden:\n",
    "\n",
    "   content/papers/index.md\n",
    "\n",
    ".. toctree::\n",
    "   :maxdepth: 2\n",
    "   :hidden:\n",
    "\n",
    "   content/contact/index.md\n",
    "```"
   ]
  }
 ],
 "metadata": {
  "kernelspec": {
   "display_name": "Python 3 (ipykernel)",
   "language": "python",
   "name": "python3"
  },
  "language_info": {
   "codemirror_mode": {
    "name": "ipython",
    "version": 3
   },
   "file_extension": ".py",
   "mimetype": "text/x-python",
   "name": "python",
   "nbconvert_exporter": "python",
   "pygments_lexer": "ipython3",
   "version": "3.12.11"
  }
 },
 "nbformat": 4,
 "nbformat_minor": 5
}
